{
 "cells": [
  {
   "cell_type": "markdown",
   "metadata": {},
   "source": [
    "## detect Anomaly in data"
   ]
  },
  {
   "cell_type": "code",
   "execution_count": 3,
   "metadata": {},
   "outputs": [],
   "source": [
    "import json\n",
    "import pandas as pd"
   ]
  },
  {
   "cell_type": "code",
   "execution_count": 4,
   "metadata": {},
   "outputs": [],
   "source": [
    "with open('stores.json') as data:\n",
    "    stores_json = json.load(data)"
   ]
  },
  {
   "cell_type": "code",
   "execution_count": 5,
   "metadata": {},
   "outputs": [
    {
     "data": {
      "text/html": [
       "<div>\n",
       "<style scoped>\n",
       "    .dataframe tbody tr th:only-of-type {\n",
       "        vertical-align: middle;\n",
       "    }\n",
       "\n",
       "    .dataframe tbody tr th {\n",
       "        vertical-align: top;\n",
       "    }\n",
       "\n",
       "    .dataframe thead th {\n",
       "        text-align: right;\n",
       "    }\n",
       "</style>\n",
       "<table border=\"1\" class=\"dataframe\">\n",
       "  <thead>\n",
       "    <tr style=\"text-align: right;\">\n",
       "      <th></th>\n",
       "      <th>Banner</th>\n",
       "      <th>Region</th>\n",
       "      <th>Store ID</th>\n",
       "    </tr>\n",
       "  </thead>\n",
       "  <tbody>\n",
       "    <tr>\n",
       "      <th>0</th>\n",
       "      <td>Walmart</td>\n",
       "      <td>Northern California</td>\n",
       "      <td>66999</td>\n",
       "    </tr>\n",
       "    <tr>\n",
       "      <th>1</th>\n",
       "      <td>Trader Joes</td>\n",
       "      <td>Northern California</td>\n",
       "      <td>4698</td>\n",
       "    </tr>\n",
       "    <tr>\n",
       "      <th>2</th>\n",
       "      <td>Safeway</td>\n",
       "      <td>Northern California</td>\n",
       "      <td>39482</td>\n",
       "    </tr>\n",
       "    <tr>\n",
       "      <th>3</th>\n",
       "      <td>Whole Foods</td>\n",
       "      <td>Northern California</td>\n",
       "      <td>34957</td>\n",
       "    </tr>\n",
       "    <tr>\n",
       "      <th>4</th>\n",
       "      <td>Walmart</td>\n",
       "      <td>New York</td>\n",
       "      <td>12837</td>\n",
       "    </tr>\n",
       "  </tbody>\n",
       "</table>\n",
       "</div>"
      ],
      "text/plain": [
       "        Banner               Region  Store ID\n",
       "0      Walmart  Northern California     66999\n",
       "1  Trader Joes  Northern California      4698\n",
       "2      Safeway  Northern California     39482\n",
       "3  Whole Foods  Northern California     34957\n",
       "4      Walmart             New York     12837"
      ]
     },
     "execution_count": 5,
     "metadata": {},
     "output_type": "execute_result"
    }
   ],
   "source": [
    "stores = pd.DataFrame(stores_json)\n",
    "stores.head()"
   ]
  },
  {
   "cell_type": "code",
   "execution_count": 7,
   "metadata": {},
   "outputs": [
    {
     "data": {
      "text/html": [
       "<div>\n",
       "<style scoped>\n",
       "    .dataframe tbody tr th:only-of-type {\n",
       "        vertical-align: middle;\n",
       "    }\n",
       "\n",
       "    .dataframe tbody tr th {\n",
       "        vertical-align: top;\n",
       "    }\n",
       "\n",
       "    .dataframe thead th {\n",
       "        text-align: right;\n",
       "    }\n",
       "</style>\n",
       "<table border=\"1\" class=\"dataframe\">\n",
       "  <thead>\n",
       "    <tr style=\"text-align: right;\">\n",
       "      <th></th>\n",
       "      <th>Auditor ID</th>\n",
       "      <th>Date</th>\n",
       "      <th>Price</th>\n",
       "      <th>Store ID</th>\n",
       "      <th>UPC</th>\n",
       "    </tr>\n",
       "  </thead>\n",
       "  <tbody>\n",
       "    <tr>\n",
       "      <th>0</th>\n",
       "      <td>234</td>\n",
       "      <td>10/18/2017</td>\n",
       "      <td>24.95</td>\n",
       "      <td>66999</td>\n",
       "      <td>268588472</td>\n",
       "    </tr>\n",
       "    <tr>\n",
       "      <th>1</th>\n",
       "      <td>234</td>\n",
       "      <td>10/27/2017</td>\n",
       "      <td>49.71</td>\n",
       "      <td>66999</td>\n",
       "      <td>475245085</td>\n",
       "    </tr>\n",
       "    <tr>\n",
       "      <th>2</th>\n",
       "      <td>234</td>\n",
       "      <td>10/20/2017</td>\n",
       "      <td>25.75</td>\n",
       "      <td>66999</td>\n",
       "      <td>126967843</td>\n",
       "    </tr>\n",
       "    <tr>\n",
       "      <th>3</th>\n",
       "      <td>234</td>\n",
       "      <td>10/23/2017</td>\n",
       "      <td>18.81</td>\n",
       "      <td>66999</td>\n",
       "      <td>708930835</td>\n",
       "    </tr>\n",
       "    <tr>\n",
       "      <th>4</th>\n",
       "      <td>234</td>\n",
       "      <td>10/23/2017</td>\n",
       "      <td>33.32</td>\n",
       "      <td>66999</td>\n",
       "      <td>325885139</td>\n",
       "    </tr>\n",
       "  </tbody>\n",
       "</table>\n",
       "</div>"
      ],
      "text/plain": [
       "   Auditor ID        Date  Price  Store ID        UPC\n",
       "0         234  10/18/2017  24.95     66999  268588472\n",
       "1         234  10/27/2017  49.71     66999  475245085\n",
       "2         234  10/20/2017  25.75     66999  126967843\n",
       "3         234  10/23/2017  18.81     66999  708930835\n",
       "4         234  10/23/2017  33.32     66999  325885139"
      ]
     },
     "execution_count": 7,
     "metadata": {},
     "output_type": "execute_result"
    }
   ],
   "source": [
    "prices=pd.read_csv('prices.csv')\n",
    "prices.head()"
   ]
  },
  {
   "cell_type": "code",
   "execution_count": 8,
   "metadata": {},
   "outputs": [],
   "source": [
    "#combining price and store \n",
    "combined = prices.merge(stores, 'left', 'Store ID')"
   ]
  },
  {
   "cell_type": "code",
   "execution_count": 9,
   "metadata": {},
   "outputs": [
    {
     "name": "stdout",
     "output_type": "stream",
     "text": [
      "12315\n",
      "28\n",
      "12315\n"
     ]
    }
   ],
   "source": [
    "print(len(prices))\n",
    "print(len(stores))\n",
    "print(len(combined))"
   ]
  },
  {
   "cell_type": "code",
   "execution_count": 10,
   "metadata": {},
   "outputs": [
    {
     "data": {
      "text/html": [
       "<div>\n",
       "<style scoped>\n",
       "    .dataframe tbody tr th:only-of-type {\n",
       "        vertical-align: middle;\n",
       "    }\n",
       "\n",
       "    .dataframe tbody tr th {\n",
       "        vertical-align: top;\n",
       "    }\n",
       "\n",
       "    .dataframe thead th {\n",
       "        text-align: right;\n",
       "    }\n",
       "</style>\n",
       "<table border=\"1\" class=\"dataframe\">\n",
       "  <thead>\n",
       "    <tr style=\"text-align: right;\">\n",
       "      <th></th>\n",
       "      <th>Auditor ID</th>\n",
       "      <th>Date</th>\n",
       "      <th>Price</th>\n",
       "      <th>Store ID</th>\n",
       "      <th>UPC</th>\n",
       "      <th>Banner</th>\n",
       "      <th>Region</th>\n",
       "    </tr>\n",
       "  </thead>\n",
       "  <tbody>\n",
       "    <tr>\n",
       "      <th>0</th>\n",
       "      <td>234</td>\n",
       "      <td>10/18/2017</td>\n",
       "      <td>24.95</td>\n",
       "      <td>66999</td>\n",
       "      <td>268588472</td>\n",
       "      <td>Walmart</td>\n",
       "      <td>Northern California</td>\n",
       "    </tr>\n",
       "    <tr>\n",
       "      <th>1</th>\n",
       "      <td>234</td>\n",
       "      <td>10/27/2017</td>\n",
       "      <td>49.71</td>\n",
       "      <td>66999</td>\n",
       "      <td>475245085</td>\n",
       "      <td>Walmart</td>\n",
       "      <td>Northern California</td>\n",
       "    </tr>\n",
       "    <tr>\n",
       "      <th>2</th>\n",
       "      <td>234</td>\n",
       "      <td>10/20/2017</td>\n",
       "      <td>25.75</td>\n",
       "      <td>66999</td>\n",
       "      <td>126967843</td>\n",
       "      <td>Walmart</td>\n",
       "      <td>Northern California</td>\n",
       "    </tr>\n",
       "    <tr>\n",
       "      <th>3</th>\n",
       "      <td>234</td>\n",
       "      <td>10/23/2017</td>\n",
       "      <td>18.81</td>\n",
       "      <td>66999</td>\n",
       "      <td>708930835</td>\n",
       "      <td>Walmart</td>\n",
       "      <td>Northern California</td>\n",
       "    </tr>\n",
       "    <tr>\n",
       "      <th>4</th>\n",
       "      <td>234</td>\n",
       "      <td>10/23/2017</td>\n",
       "      <td>33.32</td>\n",
       "      <td>66999</td>\n",
       "      <td>325885139</td>\n",
       "      <td>Walmart</td>\n",
       "      <td>Northern California</td>\n",
       "    </tr>\n",
       "    <tr>\n",
       "      <th>5</th>\n",
       "      <td>234</td>\n",
       "      <td>10/16/2017</td>\n",
       "      <td>40.43</td>\n",
       "      <td>66999</td>\n",
       "      <td>509419735</td>\n",
       "      <td>Walmart</td>\n",
       "      <td>Northern California</td>\n",
       "    </tr>\n",
       "    <tr>\n",
       "      <th>6</th>\n",
       "      <td>234</td>\n",
       "      <td>10/22/2017</td>\n",
       "      <td>35.10</td>\n",
       "      <td>66999</td>\n",
       "      <td>736362595</td>\n",
       "      <td>Walmart</td>\n",
       "      <td>Northern California</td>\n",
       "    </tr>\n",
       "    <tr>\n",
       "      <th>7</th>\n",
       "      <td>234</td>\n",
       "      <td>10/21/2017</td>\n",
       "      <td>33.65</td>\n",
       "      <td>66999</td>\n",
       "      <td>652377244</td>\n",
       "      <td>Walmart</td>\n",
       "      <td>Northern California</td>\n",
       "    </tr>\n",
       "    <tr>\n",
       "      <th>8</th>\n",
       "      <td>234</td>\n",
       "      <td>10/16/2017</td>\n",
       "      <td>22.30</td>\n",
       "      <td>66999</td>\n",
       "      <td>277394644</td>\n",
       "      <td>Walmart</td>\n",
       "      <td>Northern California</td>\n",
       "    </tr>\n",
       "    <tr>\n",
       "      <th>9</th>\n",
       "      <td>234</td>\n",
       "      <td>10/20/2017</td>\n",
       "      <td>12.32</td>\n",
       "      <td>66999</td>\n",
       "      <td>996849471</td>\n",
       "      <td>Walmart</td>\n",
       "      <td>Northern California</td>\n",
       "    </tr>\n",
       "  </tbody>\n",
       "</table>\n",
       "</div>"
      ],
      "text/plain": [
       "   Auditor ID        Date  Price  Store ID        UPC   Banner  \\\n",
       "0         234  10/18/2017  24.95     66999  268588472  Walmart   \n",
       "1         234  10/27/2017  49.71     66999  475245085  Walmart   \n",
       "2         234  10/20/2017  25.75     66999  126967843  Walmart   \n",
       "3         234  10/23/2017  18.81     66999  708930835  Walmart   \n",
       "4         234  10/23/2017  33.32     66999  325885139  Walmart   \n",
       "5         234  10/16/2017  40.43     66999  509419735  Walmart   \n",
       "6         234  10/22/2017  35.10     66999  736362595  Walmart   \n",
       "7         234  10/21/2017  33.65     66999  652377244  Walmart   \n",
       "8         234  10/16/2017  22.30     66999  277394644  Walmart   \n",
       "9         234  10/20/2017  12.32     66999  996849471  Walmart   \n",
       "\n",
       "                Region  \n",
       "0  Northern California  \n",
       "1  Northern California  \n",
       "2  Northern California  \n",
       "3  Northern California  \n",
       "4  Northern California  \n",
       "5  Northern California  \n",
       "6  Northern California  \n",
       "7  Northern California  \n",
       "8  Northern California  \n",
       "9  Northern California  "
      ]
     },
     "execution_count": 10,
     "metadata": {},
     "output_type": "execute_result"
    }
   ],
   "source": [
    "combined.head(10)"
   ]
  },
  {
   "cell_type": "code",
   "execution_count": 11,
   "metadata": {},
   "outputs": [
    {
     "data": {
      "text/plain": [
       "Auditor ID      0\n",
       "Date            0\n",
       "Price           0\n",
       "Store ID        0\n",
       "UPC             0\n",
       "Banner        804\n",
       "Region        804\n",
       "dtype: int64"
      ]
     },
     "execution_count": 11,
     "metadata": {},
     "output_type": "execute_result"
    }
   ],
   "source": [
    "combined.isnull().sum()"
   ]
  },
  {
   "cell_type": "code",
   "execution_count": 12,
   "metadata": {},
   "outputs": [],
   "source": [
    "missing_stores = combined[combined['Banner'].isnull()]"
   ]
  },
  {
   "cell_type": "markdown",
   "metadata": {},
   "source": [
    "- There are some stores that sell products; however, these stores do not exist in \"stores.csv\", which is actually a store dictionary. This dictionary is supposed to include all store IDs."
   ]
  },
  {
   "cell_type": "code",
   "execution_count": 14,
   "metadata": {},
   "outputs": [
    {
     "data": {
      "text/html": [
       "<div>\n",
       "<style scoped>\n",
       "    .dataframe tbody tr th:only-of-type {\n",
       "        vertical-align: middle;\n",
       "    }\n",
       "\n",
       "    .dataframe tbody tr th {\n",
       "        vertical-align: top;\n",
       "    }\n",
       "\n",
       "    .dataframe thead th {\n",
       "        text-align: right;\n",
       "    }\n",
       "</style>\n",
       "<table border=\"1\" class=\"dataframe\">\n",
       "  <thead>\n",
       "    <tr style=\"text-align: right;\">\n",
       "      <th></th>\n",
       "      <th>Auditor ID</th>\n",
       "      <th>Date</th>\n",
       "      <th>Price</th>\n",
       "      <th>Store ID</th>\n",
       "      <th>UPC</th>\n",
       "      <th>Banner</th>\n",
       "      <th>Region</th>\n",
       "    </tr>\n",
       "  </thead>\n",
       "  <tbody>\n",
       "    <tr>\n",
       "      <th>813</th>\n",
       "      <td>536</td>\n",
       "      <td>10/19/2017</td>\n",
       "      <td>48.69</td>\n",
       "      <td>60957</td>\n",
       "      <td>340260209</td>\n",
       "      <td>NaN</td>\n",
       "      <td>NaN</td>\n",
       "    </tr>\n",
       "    <tr>\n",
       "      <th>814</th>\n",
       "      <td>536</td>\n",
       "      <td>10/29/2017</td>\n",
       "      <td>55.79</td>\n",
       "      <td>60957</td>\n",
       "      <td>749133422</td>\n",
       "      <td>NaN</td>\n",
       "      <td>NaN</td>\n",
       "    </tr>\n",
       "    <tr>\n",
       "      <th>815</th>\n",
       "      <td>536</td>\n",
       "      <td>10/25/2017</td>\n",
       "      <td>5.99</td>\n",
       "      <td>60957</td>\n",
       "      <td>16999755</td>\n",
       "      <td>NaN</td>\n",
       "      <td>NaN</td>\n",
       "    </tr>\n",
       "    <tr>\n",
       "      <th>816</th>\n",
       "      <td>536</td>\n",
       "      <td>10/28/2017</td>\n",
       "      <td>11.09</td>\n",
       "      <td>60957</td>\n",
       "      <td>673299284</td>\n",
       "      <td>NaN</td>\n",
       "      <td>NaN</td>\n",
       "    </tr>\n",
       "    <tr>\n",
       "      <th>817</th>\n",
       "      <td>536</td>\n",
       "      <td>10/27/2017</td>\n",
       "      <td>32.79</td>\n",
       "      <td>60957</td>\n",
       "      <td>204071291</td>\n",
       "      <td>NaN</td>\n",
       "      <td>NaN</td>\n",
       "    </tr>\n",
       "    <tr>\n",
       "      <th>818</th>\n",
       "      <td>536</td>\n",
       "      <td>10/20/2017</td>\n",
       "      <td>11.79</td>\n",
       "      <td>60957</td>\n",
       "      <td>736014357</td>\n",
       "      <td>NaN</td>\n",
       "      <td>NaN</td>\n",
       "    </tr>\n",
       "    <tr>\n",
       "      <th>819</th>\n",
       "      <td>536</td>\n",
       "      <td>10/27/2017</td>\n",
       "      <td>15.19</td>\n",
       "      <td>60957</td>\n",
       "      <td>252888653</td>\n",
       "      <td>NaN</td>\n",
       "      <td>NaN</td>\n",
       "    </tr>\n",
       "    <tr>\n",
       "      <th>820</th>\n",
       "      <td>536</td>\n",
       "      <td>10/21/2017</td>\n",
       "      <td>43.79</td>\n",
       "      <td>60957</td>\n",
       "      <td>676939567</td>\n",
       "      <td>NaN</td>\n",
       "      <td>NaN</td>\n",
       "    </tr>\n",
       "    <tr>\n",
       "      <th>821</th>\n",
       "      <td>536</td>\n",
       "      <td>10/23/2017</td>\n",
       "      <td>44.59</td>\n",
       "      <td>60957</td>\n",
       "      <td>433536637</td>\n",
       "      <td>NaN</td>\n",
       "      <td>NaN</td>\n",
       "    </tr>\n",
       "    <tr>\n",
       "      <th>822</th>\n",
       "      <td>536</td>\n",
       "      <td>10/18/2017</td>\n",
       "      <td>60.29</td>\n",
       "      <td>60957</td>\n",
       "      <td>83141336</td>\n",
       "      <td>NaN</td>\n",
       "      <td>NaN</td>\n",
       "    </tr>\n",
       "  </tbody>\n",
       "</table>\n",
       "</div>"
      ],
      "text/plain": [
       "     Auditor ID        Date  Price  Store ID        UPC Banner Region\n",
       "813         536  10/19/2017  48.69     60957  340260209    NaN    NaN\n",
       "814         536  10/29/2017  55.79     60957  749133422    NaN    NaN\n",
       "815         536  10/25/2017   5.99     60957   16999755    NaN    NaN\n",
       "816         536  10/28/2017  11.09     60957  673299284    NaN    NaN\n",
       "817         536  10/27/2017  32.79     60957  204071291    NaN    NaN\n",
       "818         536  10/20/2017  11.79     60957  736014357    NaN    NaN\n",
       "819         536  10/27/2017  15.19     60957  252888653    NaN    NaN\n",
       "820         536  10/21/2017  43.79     60957  676939567    NaN    NaN\n",
       "821         536  10/23/2017  44.59     60957  433536637    NaN    NaN\n",
       "822         536  10/18/2017  60.29     60957   83141336    NaN    NaN"
      ]
     },
     "execution_count": 14,
     "metadata": {},
     "output_type": "execute_result"
    }
   ],
   "source": [
    "missing_stores.head(10)"
   ]
  },
  {
   "cell_type": "code",
   "execution_count": 15,
   "metadata": {},
   "outputs": [
    {
     "data": {
      "text/plain": [
       "2"
      ]
     },
     "execution_count": 15,
     "metadata": {},
     "output_type": "execute_result"
    }
   ],
   "source": [
    "missing_stores['Store ID'].nunique()"
   ]
  },
  {
   "cell_type": "code",
   "execution_count": 16,
   "metadata": {},
   "outputs": [
    {
     "data": {
      "text/plain": [
       "813     60957\n",
       "4109    38472\n",
       "Name: Store ID, dtype: int64"
      ]
     },
     "execution_count": 16,
     "metadata": {},
     "output_type": "execute_result"
    }
   ],
   "source": [
    "missing_stores['Store ID'].drop_duplicates()"
   ]
  },
  {
   "cell_type": "markdown",
   "metadata": {},
   "source": [
    "- Store 38472 and Store 60957 do not exist in store.csv.  "
   ]
  },
  {
   "cell_type": "code",
   "execution_count": 18,
   "metadata": {},
   "outputs": [
    {
     "data": {
      "text/plain": [
       "Store ID\n",
       "38472    503\n",
       "60957    301\n",
       "Name: UPC, dtype: int64"
      ]
     },
     "execution_count": 18,
     "metadata": {},
     "output_type": "execute_result"
    }
   ],
   "source": [
    "missing_stores.groupby(by='Store ID')['UPC'].count()"
   ]
  },
  {
   "cell_type": "markdown",
   "metadata": {},
   "source": [
    "- 503 products were sold in Store 38472 and 301 products were sold in Store 60957.\n",
    "- In the final output, these products will not exist since 'Banner' column is required in the final output."
   ]
  },
  {
   "cell_type": "code",
   "execution_count": 19,
   "metadata": {},
   "outputs": [],
   "source": [
    "combined_final = combined.dropna()"
   ]
  },
  {
   "cell_type": "code",
   "execution_count": 20,
   "metadata": {},
   "outputs": [
    {
     "data": {
      "text/plain": [
       "Auditor ID    0\n",
       "Date          0\n",
       "Price         0\n",
       "Store ID      0\n",
       "UPC           0\n",
       "Banner        0\n",
       "Region        0\n",
       "dtype: int64"
      ]
     },
     "execution_count": 20,
     "metadata": {},
     "output_type": "execute_result"
    }
   ],
   "source": [
    "combined_final.isnull().sum()"
   ]
  },
  {
   "cell_type": "code",
   "execution_count": 21,
   "metadata": {},
   "outputs": [
    {
     "name": "stdout",
     "output_type": "stream",
     "text": [
      "12315\n",
      "11511\n"
     ]
    }
   ],
   "source": [
    "print(len(combined))\n",
    "print(len(combined_final))"
   ]
  },
  {
   "cell_type": "markdown",
   "metadata": {},
   "source": [
    "- 804 products (12315-1151 = 804) were dropped, which is consisted what we found above (503 + 301 = 804)"
   ]
  },
  {
   "cell_type": "code",
   "execution_count": 22,
   "metadata": {},
   "outputs": [],
   "source": [
    "### Creating pivot table\n",
    "pivot = combined_final.pivot_table(values = 'Price', index = ['Banner', 'UPC'], columns = 'Region', aggfunc='mean')"
   ]
  },
  {
   "cell_type": "code",
   "execution_count": 1,
   "metadata": {},
   "outputs": [
    {
     "data": {
      "text/plain": [
       "2.0296731243188044"
      ]
     },
     "execution_count": 1,
     "metadata": {},
     "output_type": "execute_result"
    }
   ],
   "source": [
    "206708/101843"
   ]
  },
  {
   "cell_type": "code",
   "execution_count": 2,
   "metadata": {},
   "outputs": [
    {
     "data": {
      "text/plain": [
       "1.2609187133901962"
      ]
     },
     "execution_count": 2,
     "metadata": {},
     "output_type": "execute_result"
    }
   ],
   "source": [
    "73620/58386"
   ]
  },
  {
   "cell_type": "markdown",
   "metadata": {},
   "source": [
    "- Since the indeces of final output are Banner and UPC, we need to do aggregation, which is 'mean' in that case.\n",
    "- Actually, prices of stores of a banner is averaged. \n",
    "- Based on the subject matter expertise or desired analysis, median might be another option for aggregation.\n",
    "- When checked stores.csv, each region has one store ID for each banner. So, mean or median, or any aggregation function, will not make any difference in this question."
   ]
  },
  {
   "cell_type": "code",
   "execution_count": 23,
   "metadata": {},
   "outputs": [
    {
     "data": {
      "text/html": [
       "<div>\n",
       "<style scoped>\n",
       "    .dataframe tbody tr th:only-of-type {\n",
       "        vertical-align: middle;\n",
       "    }\n",
       "\n",
       "    .dataframe tbody tr th {\n",
       "        vertical-align: top;\n",
       "    }\n",
       "\n",
       "    .dataframe thead th {\n",
       "        text-align: right;\n",
       "    }\n",
       "</style>\n",
       "<table border=\"1\" class=\"dataframe\">\n",
       "  <thead>\n",
       "    <tr style=\"text-align: right;\">\n",
       "      <th></th>\n",
       "      <th>Region</th>\n",
       "      <th>Kansas</th>\n",
       "      <th>New York</th>\n",
       "      <th>Northern California</th>\n",
       "      <th>Texas</th>\n",
       "    </tr>\n",
       "    <tr>\n",
       "      <th>Banner</th>\n",
       "      <th>UPC</th>\n",
       "      <th></th>\n",
       "      <th></th>\n",
       "      <th></th>\n",
       "      <th></th>\n",
       "    </tr>\n",
       "  </thead>\n",
       "  <tbody>\n",
       "    <tr>\n",
       "      <th rowspan=\"5\" valign=\"top\">Safeway</th>\n",
       "      <th>11873171</th>\n",
       "      <td>NaN</td>\n",
       "      <td>NaN</td>\n",
       "      <td>6.09</td>\n",
       "      <td>5.19</td>\n",
       "    </tr>\n",
       "    <tr>\n",
       "      <th>15052612</th>\n",
       "      <td>53.99</td>\n",
       "      <td>NaN</td>\n",
       "      <td>NaN</td>\n",
       "      <td>54.49</td>\n",
       "    </tr>\n",
       "    <tr>\n",
       "      <th>16482322</th>\n",
       "      <td>17.89</td>\n",
       "      <td>NaN</td>\n",
       "      <td>NaN</td>\n",
       "      <td>18.09</td>\n",
       "    </tr>\n",
       "    <tr>\n",
       "      <th>16729338</th>\n",
       "      <td>7.99</td>\n",
       "      <td>NaN</td>\n",
       "      <td>9.39</td>\n",
       "      <td>8.09</td>\n",
       "    </tr>\n",
       "    <tr>\n",
       "      <th>16829288</th>\n",
       "      <td>3.59</td>\n",
       "      <td>NaN</td>\n",
       "      <td>4.19</td>\n",
       "      <td>3.59</td>\n",
       "    </tr>\n",
       "  </tbody>\n",
       "</table>\n",
       "</div>"
      ],
      "text/plain": [
       "Region            Kansas  New York  Northern California  Texas\n",
       "Banner  UPC                                                   \n",
       "Safeway 11873171     NaN       NaN                 6.09   5.19\n",
       "        15052612   53.99       NaN                  NaN  54.49\n",
       "        16482322   17.89       NaN                  NaN  18.09\n",
       "        16729338    7.99       NaN                 9.39   8.09\n",
       "        16829288    3.59       NaN                 4.19   3.59"
      ]
     },
     "execution_count": 23,
     "metadata": {},
     "output_type": "execute_result"
    }
   ],
   "source": [
    "pivot.head()"
   ]
  },
  {
   "cell_type": "code",
   "execution_count": 24,
   "metadata": {
    "scrolled": true
   },
   "outputs": [
    {
     "data": {
      "text/html": [
       "<div>\n",
       "<style scoped>\n",
       "    .dataframe tbody tr th:only-of-type {\n",
       "        vertical-align: middle;\n",
       "    }\n",
       "\n",
       "    .dataframe tbody tr th {\n",
       "        vertical-align: top;\n",
       "    }\n",
       "\n",
       "    .dataframe thead th {\n",
       "        text-align: right;\n",
       "    }\n",
       "</style>\n",
       "<table border=\"1\" class=\"dataframe\">\n",
       "  <thead>\n",
       "    <tr style=\"text-align: right;\">\n",
       "      <th></th>\n",
       "      <th>Region</th>\n",
       "      <th>Kansas</th>\n",
       "      <th>New York</th>\n",
       "      <th>Northern California</th>\n",
       "      <th>Texas</th>\n",
       "    </tr>\n",
       "    <tr>\n",
       "      <th>Banner</th>\n",
       "      <th>UPC</th>\n",
       "      <th></th>\n",
       "      <th></th>\n",
       "      <th></th>\n",
       "      <th></th>\n",
       "    </tr>\n",
       "  </thead>\n",
       "  <tbody>\n",
       "    <tr>\n",
       "      <th rowspan=\"5\" valign=\"top\">Safeway</th>\n",
       "      <th>11873171</th>\n",
       "      <td>-</td>\n",
       "      <td>-</td>\n",
       "      <td>6.09</td>\n",
       "      <td>5.19</td>\n",
       "    </tr>\n",
       "    <tr>\n",
       "      <th>15052612</th>\n",
       "      <td>53.99</td>\n",
       "      <td>-</td>\n",
       "      <td>-</td>\n",
       "      <td>54.49</td>\n",
       "    </tr>\n",
       "    <tr>\n",
       "      <th>16482322</th>\n",
       "      <td>17.89</td>\n",
       "      <td>-</td>\n",
       "      <td>-</td>\n",
       "      <td>18.09</td>\n",
       "    </tr>\n",
       "    <tr>\n",
       "      <th>16729338</th>\n",
       "      <td>7.99</td>\n",
       "      <td>-</td>\n",
       "      <td>9.39</td>\n",
       "      <td>8.09</td>\n",
       "    </tr>\n",
       "    <tr>\n",
       "      <th>16829288</th>\n",
       "      <td>3.59</td>\n",
       "      <td>-</td>\n",
       "      <td>4.19</td>\n",
       "      <td>3.59</td>\n",
       "    </tr>\n",
       "  </tbody>\n",
       "</table>\n",
       "</div>"
      ],
      "text/plain": [
       "Region           Kansas New York Northern California  Texas\n",
       "Banner  UPC                                                \n",
       "Safeway 11873171      -        -                6.09   5.19\n",
       "        15052612  53.99        -                   -  54.49\n",
       "        16482322  17.89        -                   -  18.09\n",
       "        16729338   7.99        -                9.39   8.09\n",
       "        16829288   3.59        -                4.19   3.59"
      ]
     },
     "execution_count": 24,
     "metadata": {},
     "output_type": "execute_result"
    }
   ],
   "source": [
    "pivot.fillna('-', inplace = True)\n",
    "pivot.head()"
   ]
  },
  {
   "cell_type": "code",
   "execution_count": 25,
   "metadata": {},
   "outputs": [
    {
     "data": {
      "text/html": [
       "<div>\n",
       "<style scoped>\n",
       "    .dataframe tbody tr th:only-of-type {\n",
       "        vertical-align: middle;\n",
       "    }\n",
       "\n",
       "    .dataframe tbody tr th {\n",
       "        vertical-align: top;\n",
       "    }\n",
       "\n",
       "    .dataframe thead th {\n",
       "        text-align: right;\n",
       "    }\n",
       "</style>\n",
       "<table border=\"1\" class=\"dataframe\">\n",
       "  <thead>\n",
       "    <tr style=\"text-align: right;\">\n",
       "      <th></th>\n",
       "      <th>Region</th>\n",
       "      <th>Northern California</th>\n",
       "      <th>New York</th>\n",
       "      <th>Kansas</th>\n",
       "      <th>Texas</th>\n",
       "    </tr>\n",
       "    <tr>\n",
       "      <th>Banner</th>\n",
       "      <th>UPC</th>\n",
       "      <th></th>\n",
       "      <th></th>\n",
       "      <th></th>\n",
       "      <th></th>\n",
       "    </tr>\n",
       "  </thead>\n",
       "  <tbody>\n",
       "    <tr>\n",
       "      <th rowspan=\"5\" valign=\"top\">Safeway</th>\n",
       "      <th>11873171</th>\n",
       "      <td>6.09</td>\n",
       "      <td>-</td>\n",
       "      <td>-</td>\n",
       "      <td>5.19</td>\n",
       "    </tr>\n",
       "    <tr>\n",
       "      <th>15052612</th>\n",
       "      <td>-</td>\n",
       "      <td>-</td>\n",
       "      <td>53.99</td>\n",
       "      <td>54.49</td>\n",
       "    </tr>\n",
       "    <tr>\n",
       "      <th>16482322</th>\n",
       "      <td>-</td>\n",
       "      <td>-</td>\n",
       "      <td>17.89</td>\n",
       "      <td>18.09</td>\n",
       "    </tr>\n",
       "    <tr>\n",
       "      <th>16729338</th>\n",
       "      <td>9.39</td>\n",
       "      <td>-</td>\n",
       "      <td>7.99</td>\n",
       "      <td>8.09</td>\n",
       "    </tr>\n",
       "    <tr>\n",
       "      <th>16829288</th>\n",
       "      <td>4.19</td>\n",
       "      <td>-</td>\n",
       "      <td>3.59</td>\n",
       "      <td>3.59</td>\n",
       "    </tr>\n",
       "  </tbody>\n",
       "</table>\n",
       "</div>"
      ],
      "text/plain": [
       "Region           Northern California New York Kansas  Texas\n",
       "Banner  UPC                                                \n",
       "Safeway 11873171                6.09        -      -   5.19\n",
       "        15052612                   -        -  53.99  54.49\n",
       "        16482322                   -        -  17.89  18.09\n",
       "        16729338                9.39        -   7.99   8.09\n",
       "        16829288                4.19        -   3.59   3.59"
      ]
     },
     "execution_count": 25,
     "metadata": {},
     "output_type": "execute_result"
    }
   ],
   "source": [
    "## Reordering columns as requested in the question\n",
    "pivot = pivot[['Northern California', 'New York', 'Kansas', 'Texas']]\n",
    "pivot.head()"
   ]
  },
  {
   "cell_type": "code",
   "execution_count": 26,
   "metadata": {},
   "outputs": [],
   "source": [
    "## Final output\n",
    "pivot.to_csv('final_output.csv', index = True)"
   ]
  },
  {
   "cell_type": "markdown",
   "metadata": {},
   "source": [
    "### Extra Exploration"
   ]
  },
  {
   "cell_type": "code",
   "execution_count": 27,
   "metadata": {},
   "outputs": [
    {
     "data": {
      "text/plain": [
       "Region               Banner       Store ID\n",
       "Kansas               Safeway      39485       819\n",
       "                     Trader Joes  29384       381\n",
       "                     Walmart      40593       585\n",
       "                     Wegmans      3948        389\n",
       "                     Whole Foods  39287       913\n",
       "New York             Trader Joes  9487        382\n",
       "                     Walmart      12837       859\n",
       "                     Wegmans      2938        933\n",
       "                     Whole Foods  50948       851\n",
       "Northern California  Safeway      39482       306\n",
       "                     Trader Joes  4698        401\n",
       "                     Walmart      66999       412\n",
       "                     Whole Foods  34957       515\n",
       "Texas                Safeway      29382       838\n",
       "                     Trader Joes  40586       898\n",
       "                     Walmart      50495       579\n",
       "                     Wegmans      98638       927\n",
       "                     Whole Foods  98736       523\n",
       "Name: UPC, dtype: int64"
      ]
     },
     "execution_count": 27,
     "metadata": {},
     "output_type": "execute_result"
    }
   ],
   "source": [
    "## Count of products sold in stores\n",
    "combined.groupby(by=['Region','Banner','Store ID'])['UPC'].count()\n",
    "\n",
    "## These excludes sales in Stores 38472 and 60957 since we can retrive banners for them."
   ]
  },
  {
   "cell_type": "code",
   "execution_count": 28,
   "metadata": {},
   "outputs": [],
   "source": [
    "auditor = pd.read_csv('auditors.csv')"
   ]
  },
  {
   "cell_type": "code",
   "execution_count": 29,
   "metadata": {},
   "outputs": [
    {
     "data": {
      "text/html": [
       "<div>\n",
       "<style scoped>\n",
       "    .dataframe tbody tr th:only-of-type {\n",
       "        vertical-align: middle;\n",
       "    }\n",
       "\n",
       "    .dataframe tbody tr th {\n",
       "        vertical-align: top;\n",
       "    }\n",
       "\n",
       "    .dataframe thead th {\n",
       "        text-align: right;\n",
       "    }\n",
       "</style>\n",
       "<table border=\"1\" class=\"dataframe\">\n",
       "  <thead>\n",
       "    <tr style=\"text-align: right;\">\n",
       "      <th></th>\n",
       "      <th>Auditor ID</th>\n",
       "      <th>First</th>\n",
       "      <th>Last</th>\n",
       "      <th>Region</th>\n",
       "    </tr>\n",
       "  </thead>\n",
       "  <tbody>\n",
       "    <tr>\n",
       "      <th>0</th>\n",
       "      <td>234</td>\n",
       "      <td>Sue</td>\n",
       "      <td>Smith</td>\n",
       "      <td>Northern California</td>\n",
       "    </tr>\n",
       "    <tr>\n",
       "      <th>1</th>\n",
       "      <td>536</td>\n",
       "      <td>Bob</td>\n",
       "      <td>Smith</td>\n",
       "      <td>Northern California</td>\n",
       "    </tr>\n",
       "    <tr>\n",
       "      <th>2</th>\n",
       "      <td>98</td>\n",
       "      <td>Jack</td>\n",
       "      <td>Smith</td>\n",
       "      <td>New York</td>\n",
       "    </tr>\n",
       "    <tr>\n",
       "      <th>3</th>\n",
       "      <td>203</td>\n",
       "      <td>Jill</td>\n",
       "      <td>Smith</td>\n",
       "      <td>New York</td>\n",
       "    </tr>\n",
       "    <tr>\n",
       "      <th>4</th>\n",
       "      <td>304</td>\n",
       "      <td>Jerry</td>\n",
       "      <td>Johnson</td>\n",
       "      <td>Texas</td>\n",
       "    </tr>\n",
       "    <tr>\n",
       "      <th>5</th>\n",
       "      <td>63</td>\n",
       "      <td>Randy</td>\n",
       "      <td>Johnson</td>\n",
       "      <td>Texas</td>\n",
       "    </tr>\n",
       "    <tr>\n",
       "      <th>6</th>\n",
       "      <td>1326</td>\n",
       "      <td>Mike</td>\n",
       "      <td>Johnson</td>\n",
       "      <td>Kansas</td>\n",
       "    </tr>\n",
       "    <tr>\n",
       "      <th>7</th>\n",
       "      <td>713</td>\n",
       "      <td>Dave</td>\n",
       "      <td>Johnson</td>\n",
       "      <td>Kansas</td>\n",
       "    </tr>\n",
       "  </tbody>\n",
       "</table>\n",
       "</div>"
      ],
      "text/plain": [
       "   Auditor ID  First     Last               Region\n",
       "0         234    Sue    Smith  Northern California\n",
       "1         536    Bob    Smith  Northern California\n",
       "2          98   Jack    Smith             New York\n",
       "3         203   Jill    Smith             New York\n",
       "4         304  Jerry  Johnson                Texas\n",
       "5          63  Randy  Johnson                Texas\n",
       "6        1326   Mike  Johnson               Kansas\n",
       "7         713   Dave  Johnson               Kansas"
      ]
     },
     "execution_count": 29,
     "metadata": {},
     "output_type": "execute_result"
    }
   ],
   "source": [
    "auditor"
   ]
  },
  {
   "cell_type": "markdown",
   "metadata": {},
   "source": [
    "- Though Hawaii exists in stores.csv, there is no record related to Hawaii in prices.csv. That mean no auditor is assigned to Hawaii."
   ]
  },
  {
   "cell_type": "code",
   "execution_count": 36,
   "metadata": {},
   "outputs": [],
   "source": [
    "#Following analysis excludes missing stores"
   ]
  },
  {
   "cell_type": "code",
   "execution_count": 31,
   "metadata": {},
   "outputs": [
    {
     "data": {
      "text/plain": [
       "Auditor ID\n",
       "63      1477\n",
       "98      2090\n",
       "203     1241\n",
       "234      412\n",
       "304     2288\n",
       "536      916\n",
       "713     1302\n",
       "1326    1785\n",
       "Name: UPC, dtype: int64"
      ]
     },
     "execution_count": 31,
     "metadata": {},
     "output_type": "execute_result"
    }
   ],
   "source": [
    "### Count of UPC each auditor collected\n",
    "combined_final.groupby(by = ['Auditor ID'])['UPC'].count()"
   ]
  },
  {
   "cell_type": "code",
   "execution_count": 32,
   "metadata": {},
   "outputs": [
    {
     "data": {
      "text/plain": [
       "Region               Auditor ID\n",
       "Kansas               713           1302\n",
       "                     1326          1785\n",
       "New York             98            1784\n",
       "                     203           1241\n",
       "Northern California  98             306\n",
       "                     234            412\n",
       "                     536            916\n",
       "Texas                63            1477\n",
       "                     304           2288\n",
       "Name: UPC, dtype: int64"
      ]
     },
     "execution_count": 32,
     "metadata": {},
     "output_type": "execute_result"
    }
   ],
   "source": [
    "## Count of UPC collected by each auditor in region\n",
    "combined_final.groupby(by = ['Region','Auditor ID'])['UPC'].count()"
   ]
  },
  {
   "cell_type": "markdown",
   "metadata": {},
   "source": [
    "######  All auditors were assigned to collect prices. Only auditor 98 was sent to two different regions."
   ]
  },
  {
   "cell_type": "code",
   "execution_count": 34,
   "metadata": {},
   "outputs": [
    {
     "data": {
      "text/plain": [
       "Region\n",
       "Kansas                 3087\n",
       "New York               3025\n",
       "Northern California    1634\n",
       "Texas                  3765\n",
       "Name: UPC, dtype: int64"
      ]
     },
     "execution_count": 34,
     "metadata": {},
     "output_type": "execute_result"
    }
   ],
   "source": [
    "### Count of UPCs collected in each region\n",
    "combined_final.groupby(by = ['Region'])['UPC'].count()"
   ]
  },
  {
   "cell_type": "code",
   "execution_count": 35,
   "metadata": {},
   "outputs": [
    {
     "data": {
      "text/plain": [
       "1000"
      ]
     },
     "execution_count": 35,
     "metadata": {},
     "output_type": "execute_result"
    }
   ],
   "source": [
    "combined_final['UPC'].nunique()"
   ]
  },
  {
   "cell_type": "markdown",
   "metadata": {},
   "source": [
    "## Anomalies"
   ]
  },
  {
   "cell_type": "markdown",
   "metadata": {},
   "source": [
    "- Though Hawaii exists in stores.csv, there is no record related to Hawaii in prices.csv. That mean no auditor is assigned to Hawaii.\n",
    "- There are missnig region multiplers, which means it would not be possible to calculate price. The way to handling missing data is to get median or mean - domain experts can act upon.\n",
    "- Similarly, since there are missing store IDs in stores.csv, we dropped UPCs which were missing store IDs in stores.csv to create the final output csv. Hence, it is not possible to calculate base price for those UPCs - assuming that we have store multipliers and region multiplers."
   ]
  }
 ],
 "metadata": {
  "kernelspec": {
   "display_name": "Python 3",
   "language": "python",
   "name": "python3"
  },
  "language_info": {
   "codemirror_mode": {
    "name": "ipython",
    "version": 3
   },
   "file_extension": ".py",
   "mimetype": "text/x-python",
   "name": "python",
   "nbconvert_exporter": "python",
   "pygments_lexer": "ipython3",
   "version": "3.6.7"
  }
 },
 "nbformat": 4,
 "nbformat_minor": 2
}
